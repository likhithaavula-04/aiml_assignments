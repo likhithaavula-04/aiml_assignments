{
 "cells": [
  {
   "cell_type": "markdown",
   "id": "74abafd9-eb4e-4259-91b1-30daddd27d3c",
   "metadata": {},
   "source": [
    "### Assumptions in Mutlilinear Regression\n",
    "- Linearity: The relationship between the predictors and the response is linear\n",
    "- Independence: Observations are independent of each other\n",
    "- Homoscedasticity: The residuals(difference between observed and predicted values)exhibit constant variance at all levels of the predictor\n",
    "- Normal Distribution of Errors: The residuals of the model are normally distributed\n",
    "- No multicollinearity: The independent variables should not be too highly correlated with each other"
   ]
  },
  {
   "cell_type": "code",
   "execution_count": 21,
   "id": "a80f81b3-ad72-4435-acbd-77383588afc9",
   "metadata": {},
   "outputs": [],
   "source": [
    "import pandas as pd\n",
    "import matplotlib.pyplot as plt\n",
    "import seaborn as sns\n",
    "import statsmodels.formula.api as smf\n",
    "from statsmodels.graphics.regressionplots import influence_plot\n",
    "import numpy as np"
   ]
  },
  {
   "cell_type": "code",
   "execution_count": 23,
   "id": "4c4eb1a1-66d4-46ea-b08a-f06c6237905a",
   "metadata": {},
   "outputs": [
    {
     "data": {
      "text/html": [
       "<div>\n",
       "<style scoped>\n",
       "    .dataframe tbody tr th:only-of-type {\n",
       "        vertical-align: middle;\n",
       "    }\n",
       "\n",
       "    .dataframe tbody tr th {\n",
       "        vertical-align: top;\n",
       "    }\n",
       "\n",
       "    .dataframe thead th {\n",
       "        text-align: right;\n",
       "    }\n",
       "</style>\n",
       "<table border=\"1\" class=\"dataframe\">\n",
       "  <thead>\n",
       "    <tr style=\"text-align: right;\">\n",
       "      <th></th>\n",
       "      <th>HP</th>\n",
       "      <th>MPG</th>\n",
       "      <th>VOL</th>\n",
       "      <th>SP</th>\n",
       "      <th>WT</th>\n",
       "    </tr>\n",
       "  </thead>\n",
       "  <tbody>\n",
       "    <tr>\n",
       "      <th>0</th>\n",
       "      <td>49</td>\n",
       "      <td>53.700681</td>\n",
       "      <td>89</td>\n",
       "      <td>104.185353</td>\n",
       "      <td>28.762059</td>\n",
       "    </tr>\n",
       "    <tr>\n",
       "      <th>1</th>\n",
       "      <td>55</td>\n",
       "      <td>50.013401</td>\n",
       "      <td>92</td>\n",
       "      <td>105.461264</td>\n",
       "      <td>30.466833</td>\n",
       "    </tr>\n",
       "    <tr>\n",
       "      <th>2</th>\n",
       "      <td>55</td>\n",
       "      <td>50.013401</td>\n",
       "      <td>92</td>\n",
       "      <td>105.461264</td>\n",
       "      <td>30.193597</td>\n",
       "    </tr>\n",
       "    <tr>\n",
       "      <th>3</th>\n",
       "      <td>70</td>\n",
       "      <td>45.696322</td>\n",
       "      <td>92</td>\n",
       "      <td>113.461264</td>\n",
       "      <td>30.632114</td>\n",
       "    </tr>\n",
       "    <tr>\n",
       "      <th>4</th>\n",
       "      <td>53</td>\n",
       "      <td>50.504232</td>\n",
       "      <td>92</td>\n",
       "      <td>104.461264</td>\n",
       "      <td>29.889149</td>\n",
       "    </tr>\n",
       "  </tbody>\n",
       "</table>\n",
       "</div>"
      ],
      "text/plain": [
       "   HP        MPG  VOL          SP         WT\n",
       "0  49  53.700681   89  104.185353  28.762059\n",
       "1  55  50.013401   92  105.461264  30.466833\n",
       "2  55  50.013401   92  105.461264  30.193597\n",
       "3  70  45.696322   92  113.461264  30.632114\n",
       "4  53  50.504232   92  104.461264  29.889149"
      ]
     },
     "execution_count": 23,
     "metadata": {},
     "output_type": "execute_result"
    }
   ],
   "source": [
    "cars = pd.read_csv(\"Cars.csv\")\n",
    "cars.head()"
   ]
  },
  {
   "cell_type": "code",
   "execution_count": 25,
   "id": "a440f2d9-d4f0-4e5f-aa48-16d7436ee14f",
   "metadata": {},
   "outputs": [
    {
     "data": {
      "text/html": [
       "<div>\n",
       "<style scoped>\n",
       "    .dataframe tbody tr th:only-of-type {\n",
       "        vertical-align: middle;\n",
       "    }\n",
       "\n",
       "    .dataframe tbody tr th {\n",
       "        vertical-align: top;\n",
       "    }\n",
       "\n",
       "    .dataframe thead th {\n",
       "        text-align: right;\n",
       "    }\n",
       "</style>\n",
       "<table border=\"1\" class=\"dataframe\">\n",
       "  <thead>\n",
       "    <tr style=\"text-align: right;\">\n",
       "      <th></th>\n",
       "      <th>HP</th>\n",
       "      <th>VOL</th>\n",
       "      <th>SP</th>\n",
       "      <th>WT</th>\n",
       "      <th>MPG</th>\n",
       "    </tr>\n",
       "  </thead>\n",
       "  <tbody>\n",
       "    <tr>\n",
       "      <th>0</th>\n",
       "      <td>49</td>\n",
       "      <td>89</td>\n",
       "      <td>104.185353</td>\n",
       "      <td>28.762059</td>\n",
       "      <td>53.700681</td>\n",
       "    </tr>\n",
       "    <tr>\n",
       "      <th>1</th>\n",
       "      <td>55</td>\n",
       "      <td>92</td>\n",
       "      <td>105.461264</td>\n",
       "      <td>30.466833</td>\n",
       "      <td>50.013401</td>\n",
       "    </tr>\n",
       "    <tr>\n",
       "      <th>2</th>\n",
       "      <td>55</td>\n",
       "      <td>92</td>\n",
       "      <td>105.461264</td>\n",
       "      <td>30.193597</td>\n",
       "      <td>50.013401</td>\n",
       "    </tr>\n",
       "    <tr>\n",
       "      <th>3</th>\n",
       "      <td>70</td>\n",
       "      <td>92</td>\n",
       "      <td>113.461264</td>\n",
       "      <td>30.632114</td>\n",
       "      <td>45.696322</td>\n",
       "    </tr>\n",
       "    <tr>\n",
       "      <th>4</th>\n",
       "      <td>53</td>\n",
       "      <td>92</td>\n",
       "      <td>104.461264</td>\n",
       "      <td>29.889149</td>\n",
       "      <td>50.504232</td>\n",
       "    </tr>\n",
       "  </tbody>\n",
       "</table>\n",
       "</div>"
      ],
      "text/plain": [
       "   HP  VOL          SP         WT        MPG\n",
       "0  49   89  104.185353  28.762059  53.700681\n",
       "1  55   92  105.461264  30.466833  50.013401\n",
       "2  55   92  105.461264  30.193597  50.013401\n",
       "3  70   92  113.461264  30.632114  45.696322\n",
       "4  53   92  104.461264  29.889149  50.504232"
      ]
     },
     "execution_count": 25,
     "metadata": {},
     "output_type": "execute_result"
    }
   ],
   "source": [
    "cars = pd.DataFrame(cars, columns=[\"HP\",\"VOL\",\"SP\",\"WT\",\"MPG\"])\n",
    "cars.head()"
   ]
  },
  {
   "cell_type": "markdown",
   "id": "71fa7a5e-3bb8-4aa3-9b8d-cd3a4fc4543b",
   "metadata": {},
   "source": [
    "### Description of columns\n",
    "- MPG : Milege of the car\n",
    "- HP : Horse Power of the car\n",
    "- VOL : Volume of the car (size)\n",
    "- SP : Top speed of the car (Miles per hour)\n",
    "- WT : Weight of the car (Pounds)\n"
   ]
  },
  {
   "cell_type": "markdown",
   "id": "f0f7bd78-a459-4e19-a458-9367aaf87008",
   "metadata": {},
   "source": [
    "# EDA"
   ]
  },
  {
   "cell_type": "code",
   "execution_count": 29,
   "id": "f6be9b4f-3bf7-430f-bcdc-2b3675b4a9f8",
   "metadata": {},
   "outputs": [
    {
     "name": "stdout",
     "output_type": "stream",
     "text": [
      "<class 'pandas.core.frame.DataFrame'>\n",
      "RangeIndex: 81 entries, 0 to 80\n",
      "Data columns (total 5 columns):\n",
      " #   Column  Non-Null Count  Dtype  \n",
      "---  ------  --------------  -----  \n",
      " 0   HP      81 non-null     int64  \n",
      " 1   VOL     81 non-null     int64  \n",
      " 2   SP      81 non-null     float64\n",
      " 3   WT      81 non-null     float64\n",
      " 4   MPG     81 non-null     float64\n",
      "dtypes: float64(3), int64(2)\n",
      "memory usage: 3.3 KB\n"
     ]
    }
   ],
   "source": [
    "cars.info()"
   ]
  },
  {
   "cell_type": "code",
   "execution_count": 31,
   "id": "c40bf54a-41a1-4f48-88c3-23b9f066d93e",
   "metadata": {},
   "outputs": [
    {
     "data": {
      "text/plain": [
       "HP     0\n",
       "VOL    0\n",
       "SP     0\n",
       "WT     0\n",
       "MPG    0\n",
       "dtype: int64"
      ]
     },
     "execution_count": 31,
     "metadata": {},
     "output_type": "execute_result"
    }
   ],
   "source": [
    "cars.isna().sum()"
   ]
  },
  {
   "cell_type": "markdown",
   "id": "78b6b5af-437e-4109-bee6-07c274f83501",
   "metadata": {},
   "source": [
    "## Observations\n",
    "- No missing values are observed here\n",
    "- There are about 81 observations\n",
    "- The data types of the columns are relevant and valid"
   ]
  },
  {
   "cell_type": "code",
   "execution_count": 34,
   "id": "ef70f267-8da8-4896-8212-7cc8fb16e29b",
   "metadata": {},
   "outputs": [
    {
     "ename": "TypeError",
     "evalue": "Axes.bxp() got an unexpected keyword argument 'orienr'",
     "output_type": "error",
     "traceback": [
      "\u001b[1;31m---------------------------------------------------------------------------\u001b[0m",
      "\u001b[1;31mTypeError\u001b[0m                                 Traceback (most recent call last)",
      "Cell \u001b[1;32mIn[34], line 2\u001b[0m\n\u001b[0;32m      1\u001b[0m fig, (ax_box, ax_hist) \u001b[38;5;241m=\u001b[39m plt\u001b[38;5;241m.\u001b[39msubplots(\u001b[38;5;241m2\u001b[39m, sharex\u001b[38;5;241m=\u001b[39m\u001b[38;5;28;01mTrue\u001b[39;00m, gridspec_kw\u001b[38;5;241m=\u001b[39m{\u001b[38;5;124m\"\u001b[39m\u001b[38;5;124mheight_ratios\u001b[39m\u001b[38;5;124m\"\u001b[39m: (\u001b[38;5;241m.15\u001b[39m, \u001b[38;5;241m.85\u001b[39m)})\n\u001b[1;32m----> 2\u001b[0m sns\u001b[38;5;241m.\u001b[39mboxplot(data\u001b[38;5;241m=\u001b[39mcars, x\u001b[38;5;241m=\u001b[39m\u001b[38;5;124m'\u001b[39m\u001b[38;5;124mHP\u001b[39m\u001b[38;5;124m'\u001b[39m, ax\u001b[38;5;241m=\u001b[39max_box, orienr\u001b[38;5;241m=\u001b[39m\u001b[38;5;124m'\u001b[39m\u001b[38;5;124mh\u001b[39m\u001b[38;5;124m'\u001b[39m)\n\u001b[0;32m      3\u001b[0m ax_box\u001b[38;5;241m.\u001b[39mset(xlabel\u001b[38;5;241m=\u001b[39m\u001b[38;5;124m'\u001b[39m\u001b[38;5;124m'\u001b[39m)\n\u001b[0;32m      4\u001b[0m sns\u001b[38;5;241m.\u001b[39mhistplot(data\u001b[38;5;241m=\u001b[39mcars, x\u001b[38;5;241m=\u001b[39m\u001b[38;5;124m'\u001b[39m\u001b[38;5;124mHP\u001b[39m\u001b[38;5;124m'\u001b[39m, ax\u001b[38;5;241m=\u001b[39max_hist, bins\u001b[38;5;241m=\u001b[39m\u001b[38;5;241m30\u001b[39m, kde\u001b[38;5;241m=\u001b[39m\u001b[38;5;28;01mTrue\u001b[39;00m, stat\u001b[38;5;241m=\u001b[39m\u001b[38;5;124m\"\u001b[39m\u001b[38;5;124mdensity\u001b[39m\u001b[38;5;124m\"\u001b[39m)\n",
      "File \u001b[1;32m~\\anaconda3\\Lib\\site-packages\\seaborn\\categorical.py:1634\u001b[0m, in \u001b[0;36mboxplot\u001b[1;34m(data, x, y, hue, order, hue_order, orient, color, palette, saturation, fill, dodge, width, gap, whis, linecolor, linewidth, fliersize, hue_norm, native_scale, log_scale, formatter, legend, ax, **kwargs)\u001b[0m\n\u001b[0;32m   1627\u001b[0m color \u001b[38;5;241m=\u001b[39m _default_color(\n\u001b[0;32m   1628\u001b[0m     ax\u001b[38;5;241m.\u001b[39mfill_between, hue, color,\n\u001b[0;32m   1629\u001b[0m     {k: v \u001b[38;5;28;01mfor\u001b[39;00m k, v \u001b[38;5;129;01min\u001b[39;00m kwargs\u001b[38;5;241m.\u001b[39mitems() \u001b[38;5;28;01mif\u001b[39;00m k \u001b[38;5;129;01min\u001b[39;00m [\u001b[38;5;124m\"\u001b[39m\u001b[38;5;124mc\u001b[39m\u001b[38;5;124m\"\u001b[39m, \u001b[38;5;124m\"\u001b[39m\u001b[38;5;124mcolor\u001b[39m\u001b[38;5;124m\"\u001b[39m, \u001b[38;5;124m\"\u001b[39m\u001b[38;5;124mfc\u001b[39m\u001b[38;5;124m\"\u001b[39m, \u001b[38;5;124m\"\u001b[39m\u001b[38;5;124mfacecolor\u001b[39m\u001b[38;5;124m\"\u001b[39m]},\n\u001b[0;32m   1630\u001b[0m     saturation\u001b[38;5;241m=\u001b[39msaturation,\n\u001b[0;32m   1631\u001b[0m )\n\u001b[0;32m   1632\u001b[0m linecolor \u001b[38;5;241m=\u001b[39m p\u001b[38;5;241m.\u001b[39m_complement_color(linecolor, color, p\u001b[38;5;241m.\u001b[39m_hue_map)\n\u001b[1;32m-> 1634\u001b[0m p\u001b[38;5;241m.\u001b[39mplot_boxes(\n\u001b[0;32m   1635\u001b[0m     width\u001b[38;5;241m=\u001b[39mwidth,\n\u001b[0;32m   1636\u001b[0m     dodge\u001b[38;5;241m=\u001b[39mdodge,\n\u001b[0;32m   1637\u001b[0m     gap\u001b[38;5;241m=\u001b[39mgap,\n\u001b[0;32m   1638\u001b[0m     fill\u001b[38;5;241m=\u001b[39mfill,\n\u001b[0;32m   1639\u001b[0m     whis\u001b[38;5;241m=\u001b[39mwhis,\n\u001b[0;32m   1640\u001b[0m     color\u001b[38;5;241m=\u001b[39mcolor,\n\u001b[0;32m   1641\u001b[0m     linecolor\u001b[38;5;241m=\u001b[39mlinecolor,\n\u001b[0;32m   1642\u001b[0m     linewidth\u001b[38;5;241m=\u001b[39mlinewidth,\n\u001b[0;32m   1643\u001b[0m     fliersize\u001b[38;5;241m=\u001b[39mfliersize,\n\u001b[0;32m   1644\u001b[0m     plot_kws\u001b[38;5;241m=\u001b[39mkwargs,\n\u001b[0;32m   1645\u001b[0m )\n\u001b[0;32m   1647\u001b[0m p\u001b[38;5;241m.\u001b[39m_add_axis_labels(ax)\n\u001b[0;32m   1648\u001b[0m p\u001b[38;5;241m.\u001b[39m_adjust_cat_axis(ax, axis\u001b[38;5;241m=\u001b[39mp\u001b[38;5;241m.\u001b[39morient)\n",
      "File \u001b[1;32m~\\anaconda3\\Lib\\site-packages\\seaborn\\categorical.py:700\u001b[0m, in \u001b[0;36m_CategoricalPlotter.plot_boxes\u001b[1;34m(self, width, dodge, gap, fill, whis, color, linecolor, linewidth, fliersize, plot_kws)\u001b[0m\n\u001b[0;32m    679\u001b[0m default_kws \u001b[38;5;241m=\u001b[39m \u001b[38;5;28mdict\u001b[39m(\n\u001b[0;32m    680\u001b[0m     bxpstats\u001b[38;5;241m=\u001b[39mstats\u001b[38;5;241m.\u001b[39mto_dict(\u001b[38;5;124m\"\u001b[39m\u001b[38;5;124mrecords\u001b[39m\u001b[38;5;124m\"\u001b[39m),\n\u001b[0;32m    681\u001b[0m     positions\u001b[38;5;241m=\u001b[39mdata[\u001b[38;5;28mself\u001b[39m\u001b[38;5;241m.\u001b[39morient],\n\u001b[1;32m   (...)\u001b[0m\n\u001b[0;32m    697\u001b[0m     )\n\u001b[0;32m    698\u001b[0m )\n\u001b[0;32m    699\u001b[0m boxplot_kws \u001b[38;5;241m=\u001b[39m {\u001b[38;5;241m*\u001b[39m\u001b[38;5;241m*\u001b[39mdefault_kws, \u001b[38;5;241m*\u001b[39m\u001b[38;5;241m*\u001b[39mplot_kws}\n\u001b[1;32m--> 700\u001b[0m artists \u001b[38;5;241m=\u001b[39m ax\u001b[38;5;241m.\u001b[39mbxp(\u001b[38;5;241m*\u001b[39m\u001b[38;5;241m*\u001b[39mboxplot_kws)\n\u001b[0;32m    702\u001b[0m \u001b[38;5;66;03m# Reset artist widths after adding so everything stays positive\u001b[39;00m\n\u001b[0;32m    703\u001b[0m ori_idx \u001b[38;5;241m=\u001b[39m [\u001b[38;5;124m\"\u001b[39m\u001b[38;5;124mx\u001b[39m\u001b[38;5;124m\"\u001b[39m, \u001b[38;5;124m\"\u001b[39m\u001b[38;5;124my\u001b[39m\u001b[38;5;124m\"\u001b[39m]\u001b[38;5;241m.\u001b[39mindex(\u001b[38;5;28mself\u001b[39m\u001b[38;5;241m.\u001b[39morient)\n",
      "\u001b[1;31mTypeError\u001b[0m: Axes.bxp() got an unexpected keyword argument 'orienr'"
     ]
    },
    {
     "data": {
      "image/png": "[encoded data removed]",
      "text/plain": [
       "<Figure size 640x480 with 2 Axes>"
      ]
     },
     "metadata": {},
     "output_type": "display_data"
    }
   ],
   "source": [
    "# create a figure with two subplots (one above the other)\n",
    "fig, (ax_box, ax_hist) = plt.subplots(2, sharex=True, gridspec_kw={\"height_ratios\": (.15, .85)})\n",
    "\n",
    "# creating a boxplot\n",
    "sns.boxplot(data=cars, x='HP', ax=ax_box, orienr='h')\n",
    "ax_box.set(xlabel='')\n",
    "sns.histplot(data=cars, x='HP', ax=ax_hist, bins=30, kde=True, stat=\"density\")\n",
    "ax_hist.set(ylabel='Density')\n",
    "plt.tight_layout()\n",
    "plt.show()"
   ]
  },
  {
   "cell_type": "code",
   "execution_count": null,
   "id": "eac5a2d5-e9ec-4479-b8cb-bceb4a30e844",
   "metadata": {},
   "outputs": [],
   "source": []
  }
 ],
 "metadata": {
  "kernelspec": {
   "display_name": "Python [conda env:base] *",
   "language": "python",
   "name": "conda-base-py"
  },
  "language_info": {
   "codemirror_mode": {
    "name": "ipython",
    "version": 3
   },
   "file_extension": ".py",
   "mimetype": "text/x-python",
   "name": "python",
   "nbconvert_exporter": "python",
   "pygments_lexer": "ipython3",
   "version": "3.12.7"
  }
 },
 "nbformat": 4,
 "nbformat_minor": 5
}
